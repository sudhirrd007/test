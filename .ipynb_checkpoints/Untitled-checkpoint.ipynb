{
 "cells": [
  {
   "cell_type": "code",
   "execution_count": 6,
   "id": "intimate-shell",
   "metadata": {},
   "outputs": [],
   "source": [
    "import pandas as pd\n",
    "import os"
   ]
  },
  {
   "cell_type": "code",
   "execution_count": 2,
   "id": "alert-traffic",
   "metadata": {},
   "outputs": [],
   "source": [
    "df = pd.read_csv(\"sections/Array.csv\")"
   ]
  },
  {
   "cell_type": "code",
   "execution_count": 5,
   "id": "relevant-secondary",
   "metadata": {},
   "outputs": [],
   "source": [
    "columns = [\"#\", \"Title\", \"Run Time\", \"Difficulty\", \"Acceptance rate\", \"LeetCode Link\"]"
   ]
  },
  {
   "cell_type": "code",
   "execution_count": 41,
   "id": "filled-observer",
   "metadata": {},
   "outputs": [],
   "source": [
    "files = os.listdir(\"sections/\")"
   ]
  },
  {
   "cell_type": "code",
   "execution_count": 47,
   "id": "regulated-hawaii",
   "metadata": {},
   "outputs": [],
   "source": [
    "def inputData():\n",
    "    dic = {}\n",
    "    dic[\"#\"] = input(\"NUMBER :\")\n",
    "    dic[\"Title\"] = input(\"TITLE :\")\n",
    "    dic[\"Run Time\"] = input(\"RUNTIME :\")\n",
    "    dic[\"Difficulty\"] = input(\"DIFFICULTY :\")\n",
    "    dic[\"Acceptance rate\"] = input(\"ACCEPTANCE RATE :\")\n",
    "    dic[\"LeetCode Link\"] = input(\"LEETCODE LINK :\")\n",
    "    \n",
    "    topics = int(input(\"NUMBER OF TOPICS :\"))\n",
    "    while(topics != 0):\n",
    "        topic = input(\"ENTER TOPIC NAME :\")\n",
    "        try:\n",
    "            df = pd.read_csv(\"sections/{}.csv\".format(topic))\n",
    "            topics -= 1\n",
    "            df = df.append(dic, ignore_index=True)\n",
    "            df.to_csv(\"sections/{}.csv\".format(topic), index=False)\n",
    "        except:\n",
    "            print(\"ERROR !!!!!!!!!!!!!\")"
   ]
  },
  {
   "cell_type": "code",
   "execution_count": 48,
   "id": "cathedral-webster",
   "metadata": {},
   "outputs": [
    {
     "name": "stdin",
     "output_type": "stream",
     "text": [
      "NUMBER : 0001\n",
      "TITLE : Two Sum\n",
      "RUNTIME : 6948 ms\n",
      "DIFFICULTY : EASY\n",
      "ACCEPTANCE RATE : 46.7%\n",
      "LEETCODE LINK : https://leetcode.com/problems/two-sum/\n",
      "CONFIRM ?? y\n",
      "NUMBER OF TOPICS : 2\n",
      "ENTER TOPIC NAME : Array\n",
      "ENTER TOPIC NAME : Hash Table\n"
     ]
    }
   ],
   "source": [
    "inputData()"
   ]
  },
  {
   "cell_type": "code",
   "execution_count": 143,
   "id": "valuable-virgin",
   "metadata": {},
   "outputs": [
    {
     "name": "stdout",
     "output_type": "stream",
     "text": [
      "['file', '0001_two_sum.py']\n",
      "['#', '0001']\n",
      "['Title', 'Two Sum']\n",
      "['Run Time', '6948 ms']\n",
      "['Difficulty', 'EASY']\n",
      "['Acceptance rate', '46.7%']\n",
      "['LeetCode Link', 'https://leetcode.com/problems/two-sum/']\n",
      "['Topics', 'Array', 'Hash Table']\n"
     ]
    }
   ],
   "source": [
    "file = open(\"0001_two_sum.py\", \"r\")\n",
    "for i in range(8):\n",
    "    string = file.readline()\n",
    "    print(string[2:-1].split(\", \"))"
   ]
  },
  {
   "cell_type": "code",
   "execution_count": 190,
   "id": "political-raising",
   "metadata": {},
   "outputs": [],
   "source": [
    "import os\n",
    "\n",
    "def inputData(fileName):\n",
    "    main = {}\n",
    "    \n",
    "    file = open(fileName, \"r\")\n",
    "    file.readline()\n",
    "    for i in range(7):\n",
    "        string = file.readline()\n",
    "        string = string[2:-1].split(\", \")\n",
    "        if(i != 6):\n",
    "            main[string[0]] = string[1]\n",
    "        else:\n",
    "            topics = string[1:]\n",
    "    \n",
    "    for topic in topics:\n",
    "        topicFileName = \"TOPICS/{}.csv\".format(topic)\n",
    "        if(os.path.isfile(topicFileName)):\n",
    "            df = pd.read_csv(topicFileName)\n",
    "            df = df.append(main, ignore_index=True)\n",
    "        else:\n",
    "            print(\"ERROR: NOT FOUND !!!!!!!!! ==>\", topicFileName)\n",
    "            topic = input(\"TYPE NAME MANUALLY :\")\n",
    "            df = pd.read_csv(\"TOPICS/{}.csv\".format(topic))\n",
    "            df = df.append(main, ignore_index=True)\n",
    "        df.to_csv(\"TOPICS/{}.csv\".format(topic), index=False)"
   ]
  },
  {
   "cell_type": "code",
   "execution_count": 191,
   "id": "sexual-latvia",
   "metadata": {},
   "outputs": [
    {
     "ename": "FileNotFoundError",
     "evalue": "[Errno 2] No such file or directory: 'sections/Array.csv'",
     "output_type": "error",
     "traceback": [
      "\u001b[0;31m---------------------------------------------------------------------------\u001b[0m",
      "\u001b[0;31mFileNotFoundError\u001b[0m                         Traceback (most recent call last)",
      "\u001b[0;32m<ipython-input-191-248d9ef01049>\u001b[0m in \u001b[0;36m<module>\u001b[0;34m\u001b[0m\n\u001b[0;32m----> 1\u001b[0;31m \u001b[0minputData\u001b[0m\u001b[0;34m(\u001b[0m\u001b[0;34m\"0001_two_sum.py\"\u001b[0m\u001b[0;34m)\u001b[0m\u001b[0;34m\u001b[0m\u001b[0;34m\u001b[0m\u001b[0m\n\u001b[0m",
      "\u001b[0;32m<ipython-input-190-081e13e5eb7d>\u001b[0m in \u001b[0;36minputData\u001b[0;34m(fileName)\u001b[0m\n\u001b[1;32m     24\u001b[0m             \u001b[0mdf\u001b[0m \u001b[0;34m=\u001b[0m \u001b[0mpd\u001b[0m\u001b[0;34m.\u001b[0m\u001b[0mread_csv\u001b[0m\u001b[0;34m(\u001b[0m\u001b[0;34m\"TOPICS/{}.csv\"\u001b[0m\u001b[0;34m.\u001b[0m\u001b[0mformat\u001b[0m\u001b[0;34m(\u001b[0m\u001b[0mtopic\u001b[0m\u001b[0;34m)\u001b[0m\u001b[0;34m)\u001b[0m\u001b[0;34m\u001b[0m\u001b[0;34m\u001b[0m\u001b[0m\n\u001b[1;32m     25\u001b[0m             \u001b[0mdf\u001b[0m \u001b[0;34m=\u001b[0m \u001b[0mdf\u001b[0m\u001b[0;34m.\u001b[0m\u001b[0mappend\u001b[0m\u001b[0;34m(\u001b[0m\u001b[0mmain\u001b[0m\u001b[0;34m,\u001b[0m \u001b[0mignore_index\u001b[0m\u001b[0;34m=\u001b[0m\u001b[0;32mTrue\u001b[0m\u001b[0;34m)\u001b[0m\u001b[0;34m\u001b[0m\u001b[0;34m\u001b[0m\u001b[0m\n\u001b[0;32m---> 26\u001b[0;31m         \u001b[0mdf\u001b[0m\u001b[0;34m.\u001b[0m\u001b[0mto_csv\u001b[0m\u001b[0;34m(\u001b[0m\u001b[0;34m\"sections/{}.csv\"\u001b[0m\u001b[0;34m.\u001b[0m\u001b[0mformat\u001b[0m\u001b[0;34m(\u001b[0m\u001b[0mtopic\u001b[0m\u001b[0;34m)\u001b[0m\u001b[0;34m,\u001b[0m \u001b[0mindex\u001b[0m\u001b[0;34m=\u001b[0m\u001b[0;32mFalse\u001b[0m\u001b[0;34m)\u001b[0m\u001b[0;34m\u001b[0m\u001b[0;34m\u001b[0m\u001b[0m\n\u001b[0m",
      "\u001b[0;32m~/anaconda3/lib/python3.8/site-packages/pandas/core/generic.py\u001b[0m in \u001b[0;36mto_csv\u001b[0;34m(self, path_or_buf, sep, na_rep, float_format, columns, header, index, index_label, mode, encoding, compression, quoting, quotechar, line_terminator, chunksize, date_format, doublequote, escapechar, decimal, errors)\u001b[0m\n\u001b[1;32m   3168\u001b[0m             \u001b[0mdecimal\u001b[0m\u001b[0;34m=\u001b[0m\u001b[0mdecimal\u001b[0m\u001b[0;34m,\u001b[0m\u001b[0;34m\u001b[0m\u001b[0;34m\u001b[0m\u001b[0m\n\u001b[1;32m   3169\u001b[0m         )\n\u001b[0;32m-> 3170\u001b[0;31m         \u001b[0mformatter\u001b[0m\u001b[0;34m.\u001b[0m\u001b[0msave\u001b[0m\u001b[0;34m(\u001b[0m\u001b[0;34m)\u001b[0m\u001b[0;34m\u001b[0m\u001b[0;34m\u001b[0m\u001b[0m\n\u001b[0m\u001b[1;32m   3171\u001b[0m \u001b[0;34m\u001b[0m\u001b[0m\n\u001b[1;32m   3172\u001b[0m         \u001b[0;32mif\u001b[0m \u001b[0mpath_or_buf\u001b[0m \u001b[0;32mis\u001b[0m \u001b[0;32mNone\u001b[0m\u001b[0;34m:\u001b[0m\u001b[0;34m\u001b[0m\u001b[0;34m\u001b[0m\u001b[0m\n",
      "\u001b[0;32m~/anaconda3/lib/python3.8/site-packages/pandas/io/formats/csvs.py\u001b[0m in \u001b[0;36msave\u001b[0;34m(self)\u001b[0m\n\u001b[1;32m    183\u001b[0m             \u001b[0mclose\u001b[0m \u001b[0;34m=\u001b[0m \u001b[0;32mFalse\u001b[0m\u001b[0;34m\u001b[0m\u001b[0;34m\u001b[0m\u001b[0m\n\u001b[1;32m    184\u001b[0m         \u001b[0;32melse\u001b[0m\u001b[0;34m:\u001b[0m\u001b[0;34m\u001b[0m\u001b[0;34m\u001b[0m\u001b[0m\n\u001b[0;32m--> 185\u001b[0;31m             f, handles = get_handle(\n\u001b[0m\u001b[1;32m    186\u001b[0m                 \u001b[0mself\u001b[0m\u001b[0;34m.\u001b[0m\u001b[0mpath_or_buf\u001b[0m\u001b[0;34m,\u001b[0m\u001b[0;34m\u001b[0m\u001b[0;34m\u001b[0m\u001b[0m\n\u001b[1;32m    187\u001b[0m                 \u001b[0mself\u001b[0m\u001b[0;34m.\u001b[0m\u001b[0mmode\u001b[0m\u001b[0;34m,\u001b[0m\u001b[0;34m\u001b[0m\u001b[0;34m\u001b[0m\u001b[0m\n",
      "\u001b[0;32m~/anaconda3/lib/python3.8/site-packages/pandas/io/common.py\u001b[0m in \u001b[0;36mget_handle\u001b[0;34m(path_or_buf, mode, encoding, compression, memory_map, is_text, errors)\u001b[0m\n\u001b[1;32m    491\u001b[0m         \u001b[0;32mif\u001b[0m \u001b[0mencoding\u001b[0m\u001b[0;34m:\u001b[0m\u001b[0;34m\u001b[0m\u001b[0;34m\u001b[0m\u001b[0m\n\u001b[1;32m    492\u001b[0m             \u001b[0;31m# Encoding\u001b[0m\u001b[0;34m\u001b[0m\u001b[0;34m\u001b[0m\u001b[0;34m\u001b[0m\u001b[0m\n\u001b[0;32m--> 493\u001b[0;31m             \u001b[0mf\u001b[0m \u001b[0;34m=\u001b[0m \u001b[0mopen\u001b[0m\u001b[0;34m(\u001b[0m\u001b[0mpath_or_buf\u001b[0m\u001b[0;34m,\u001b[0m \u001b[0mmode\u001b[0m\u001b[0;34m,\u001b[0m \u001b[0mencoding\u001b[0m\u001b[0;34m=\u001b[0m\u001b[0mencoding\u001b[0m\u001b[0;34m,\u001b[0m \u001b[0merrors\u001b[0m\u001b[0;34m=\u001b[0m\u001b[0merrors\u001b[0m\u001b[0;34m,\u001b[0m \u001b[0mnewline\u001b[0m\u001b[0;34m=\u001b[0m\u001b[0;34m\"\"\u001b[0m\u001b[0;34m)\u001b[0m\u001b[0;34m\u001b[0m\u001b[0;34m\u001b[0m\u001b[0m\n\u001b[0m\u001b[1;32m    494\u001b[0m         \u001b[0;32melif\u001b[0m \u001b[0mis_text\u001b[0m\u001b[0;34m:\u001b[0m\u001b[0;34m\u001b[0m\u001b[0;34m\u001b[0m\u001b[0m\n\u001b[1;32m    495\u001b[0m             \u001b[0;31m# No explicit encoding\u001b[0m\u001b[0;34m\u001b[0m\u001b[0;34m\u001b[0m\u001b[0;34m\u001b[0m\u001b[0m\n",
      "\u001b[0;31mFileNotFoundError\u001b[0m: [Errno 2] No such file or directory: 'sections/Array.csv'"
     ]
    }
   ],
   "source": [
    "inputData(\"0001_two_sum.py\")"
   ]
  },
  {
   "cell_type": "code",
   "execution_count": null,
   "id": "external-pointer",
   "metadata": {},
   "outputs": [],
   "source": []
  },
  {
   "cell_type": "code",
   "execution_count": null,
   "id": "several-motor",
   "metadata": {},
   "outputs": [],
   "source": []
  }
 ],
 "metadata": {
  "kernelspec": {
   "display_name": "Python 3",
   "language": "python",
   "name": "python3"
  },
  "language_info": {
   "codemirror_mode": {
    "name": "ipython",
    "version": 3
   },
   "file_extension": ".py",
   "mimetype": "text/x-python",
   "name": "python",
   "nbconvert_exporter": "python",
   "pygments_lexer": "ipython3",
   "version": "3.8.5"
  }
 },
 "nbformat": 4,
 "nbformat_minor": 5
}
